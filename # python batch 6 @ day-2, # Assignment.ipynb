{
 "cells": [
  {
   "cell_type": "code",
   "execution_count": 1,
   "metadata": {},
   "outputs": [
    {
     "name": "stdout",
     "output_type": "stream",
     "text": [
      "hello\n"
     ]
    }
   ],
   "source": [
    "print (\"hello\")"
   ]
  },
  {
   "cell_type": "code",
   "execution_count": 20,
   "metadata": {},
   "outputs": [
    {
     "name": "stdout",
     "output_type": "stream",
     "text": [
      "back slash\n",
      "hello         python\n"
     ]
    }
   ],
   "source": [
    "print(\"back slash\")\n",
    "print (\"hello \\\n",
    "        python\")"
   ]
  },
  {
   "cell_type": "code",
   "execution_count": 22,
   "metadata": {},
   "outputs": [
    {
     "name": "stdout",
     "output_type": "stream",
     "text": [
      "triple quotes\n",
      "                             \n",
      "░░░░░░░░░░░░░░░░░░░░░░░░░░░░░\n",
      "░░░░░░░░░░▄███████▄░░░░░░░░░░\n",
      "░░░░░░░░░▐██▀░░░▀██▌░░░░░░░░░\n",
      "░░░░░░░░░▐██░░░░░██▌░░░░░░░░░\n",
      "░░░░░░░░░▐██▄░░░▄██▌░░░░░░░░░\n",
      "░░░░░░░░░░▀███████▀░░░░░░░░░░\n",
      "░░░░░░░░░░░░▐█▄█▌░░░░░░░░░░░░\n",
      "░░░░░░░░░░▐███▄███▌░░░░░░░░░░\n",
      "░░░░░░░░░░░░▐█▄█▌░░░░░░░░░░░░\n",
      "░░░░░░░░░░░░▐█▄█▌░░░░░░░░░░░░\n",
      "░░░░░░░░░░░░▐█▄█▌░░░░░░░░░░░░\n",
      "░░░░░░░░░░░░▐█▄█▌░░░░░░░░░░░░\n",
      "░░░░░░░░░░░░▐█▄█▌░░░░░░░░░░░░\n",
      "░░░░░░░░░░░░▐█▄█▌░░░░░░░░░░░░\n",
      "░░▄█▄░░░░░░░▐█▄█▌░░░░░░░▄█▄░░\n",
      "▄█████▄░░░░░▐█▄█▌░░░░░▄█████▄\n",
      "░░███░░░░░░░▐█▄█▌░░░░░░░███░░\n",
      "░░███▄░░░░░▄██▄██▄░░░░░▄███░░\n",
      "░░▀████▄▄▄████▄████▄▄▄████▀░░\n",
      "░░░░▀█████████▄█████████▀░░░░\n",
      "░░░░░░▀███████▄███████▀░░░░░░\n",
      "░░░░░░░░░▀████▄████▀░░░░░░░░░\n",
      "░░░░░░░░░░░░▀█▄█▀░░░░░░░░░░░░\n",
      "░░░░░░░░░░░░░░▀░░░░░░░░░░░░░░\n",
      "░░░░░░░░░░░░░░░░░░░░░░░░░░░░░\n",
      " \n"
     ]
    }
   ],
   "source": [
    "print(\"triple quotes\")\n",
    "print (\"\"\"                             \n",
    "░░░░░░░░░░░░░░░░░░░░░░░░░░░░░\n",
    "░░░░░░░░░░▄███████▄░░░░░░░░░░\n",
    "░░░░░░░░░▐██▀░░░▀██▌░░░░░░░░░\n",
    "░░░░░░░░░▐██░░░░░██▌░░░░░░░░░\n",
    "░░░░░░░░░▐██▄░░░▄██▌░░░░░░░░░\n",
    "░░░░░░░░░░▀███████▀░░░░░░░░░░\n",
    "░░░░░░░░░░░░▐█▄█▌░░░░░░░░░░░░\n",
    "░░░░░░░░░░▐███▄███▌░░░░░░░░░░\n",
    "░░░░░░░░░░░░▐█▄█▌░░░░░░░░░░░░\n",
    "░░░░░░░░░░░░▐█▄█▌░░░░░░░░░░░░\n",
    "░░░░░░░░░░░░▐█▄█▌░░░░░░░░░░░░\n",
    "░░░░░░░░░░░░▐█▄█▌░░░░░░░░░░░░\n",
    "░░░░░░░░░░░░▐█▄█▌░░░░░░░░░░░░\n",
    "░░░░░░░░░░░░▐█▄█▌░░░░░░░░░░░░\n",
    "░░▄█▄░░░░░░░▐█▄█▌░░░░░░░▄█▄░░\n",
    "▄█████▄░░░░░▐█▄█▌░░░░░▄█████▄\n",
    "░░███░░░░░░░▐█▄█▌░░░░░░░███░░\n",
    "░░███▄░░░░░▄██▄██▄░░░░░▄███░░\n",
    "░░▀████▄▄▄████▄████▄▄▄████▀░░\n",
    "░░░░▀█████████▄█████████▀░░░░\n",
    "░░░░░░▀███████▄███████▀░░░░░░\n",
    "░░░░░░░░░▀████▄████▀░░░░░░░░░\n",
    "░░░░░░░░░░░░▀█▄█▀░░░░░░░░░░░░\n",
    "░░░░░░░░░░░░░░▀░░░░░░░░░░░░░░\n",
    "░░░░░░░░░░░░░░░░░░░░░░░░░░░░░\n",
    " \"\"\")"
   ]
  },
  {
   "cell_type": "code",
   "execution_count": 8,
   "metadata": {},
   "outputs": [
    {
     "name": "stdout",
     "output_type": "stream",
     "text": [
      " hello world \n"
     ]
    }
   ],
   "source": [
    "print (\" hello world \")"
   ]
  },
  {
   "cell_type": "code",
   "execution_count": 9,
   "metadata": {},
   "outputs": [
    {
     "name": "stdout",
     "output_type": "stream",
     "text": [
      " virtual world \n"
     ]
    }
   ],
   "source": [
    "print (\" virtual world \")"
   ]
  },
  {
   "cell_type": "code",
   "execution_count": 10,
   "metadata": {},
   "outputs": [
    {
     "name": "stdout",
     "output_type": "stream",
     "text": [
      "hello\tpython\n"
     ]
    }
   ],
   "source": [
    "print (\"hello\\tpython\")"
   ]
  },
  {
   "cell_type": "code",
   "execution_count": 11,
   "metadata": {},
   "outputs": [
    {
     "name": "stdout",
     "output_type": "stream",
     "text": [
      "hello\n",
      "python\n"
     ]
    }
   ],
   "source": [
    " print (\"hello\\npython\")"
   ]
  },
  {
   "cell_type": "code",
   "execution_count": 12,
   "metadata": {},
   "outputs": [
    {
     "name": "stdout",
     "output_type": "stream",
     "text": [
      "python's world\n"
     ]
    }
   ],
   "source": [
    "print ('python\\'s world')"
   ]
  },
  {
   "cell_type": "code",
   "execution_count": 16,
   "metadata": {},
   "outputs": [
    {
     "name": "stdout",
     "output_type": "stream",
     "text": [
      "The name of person is  Jarvis marks is  66 age is  21\n"
     ]
    }
   ],
   "source": [
    "name = \"Jarvis\"\n",
    "marks = 66\n",
    "age =  21\n",
    "print (\"The name of person is \", name, \"marks is \", marks, \"age is \", age)"
   ]
  },
  {
   "cell_type": "code",
   "execution_count": 17,
   "metadata": {},
   "outputs": [
    {
     "name": "stdout",
     "output_type": "stream",
     "text": [
      "The name of the person is Jarvis marks is 66.000000 age is 21\n"
     ]
    }
   ],
   "source": [
    "print (\"The name of the person is %s marks is %f age is %d\"%(name,marks,age))"
   ]
  },
  {
   "cell_type": "code",
   "execution_count": 19,
   "metadata": {},
   "outputs": [
    {
     "data": {
      "text/plain": [
       "3125"
      ]
     },
     "execution_count": 19,
     "metadata": {},
     "output_type": "execute_result"
    }
   ],
   "source": [
    "5**5"
   ]
  },
  {
   "cell_type": "code",
   "execution_count": 4,
   "metadata": {},
   "outputs": [
    {
     "name": "stdout",
     "output_type": "stream",
     "text": [
      "addition\n"
     ]
    },
    {
     "data": {
      "text/plain": [
       "35"
      ]
     },
     "execution_count": 4,
     "metadata": {},
     "output_type": "execute_result"
    }
   ],
   "source": [
    "print(\"addition\")\n",
    "10+25"
   ]
  },
  {
   "cell_type": "code",
   "execution_count": 5,
   "metadata": {},
   "outputs": [
    {
     "name": "stdout",
     "output_type": "stream",
     "text": [
      "divide\n"
     ]
    },
    {
     "data": {
      "text/plain": [
       "50.0"
      ]
     },
     "execution_count": 5,
     "metadata": {},
     "output_type": "execute_result"
    }
   ],
   "source": [
    "print(\"divide\")\n",
    "100/2"
   ]
  },
  {
   "cell_type": "code",
   "execution_count": 6,
   "metadata": {},
   "outputs": [
    {
     "name": "stdout",
     "output_type": "stream",
     "text": [
      "power\n"
     ]
    },
    {
     "data": {
      "text/plain": [
       "100000000"
      ]
     },
     "execution_count": 6,
     "metadata": {},
     "output_type": "execute_result"
    }
   ],
   "source": [
    "print(\"power\")\n",
    "10**8"
   ]
  },
  {
   "cell_type": "code",
   "execution_count": 7,
   "metadata": {},
   "outputs": [
    {
     "name": "stdout",
     "output_type": "stream",
     "text": [
      "subraction\n"
     ]
    },
    {
     "data": {
      "text/plain": [
       "60"
      ]
     },
     "execution_count": 7,
     "metadata": {},
     "output_type": "execute_result"
    }
   ],
   "source": [
    "print(\"subraction\")\n",
    "100-40"
   ]
  },
  {
   "cell_type": "code",
   "execution_count": 8,
   "metadata": {},
   "outputs": [
    {
     "data": {
      "text/plain": [
       "60.0"
      ]
     },
     "execution_count": 8,
     "metadata": {},
     "output_type": "execute_result"
    }
   ],
   "source": [
    "120/2"
   ]
  },
  {
   "cell_type": "code",
   "execution_count": 9,
   "metadata": {},
   "outputs": [
    {
     "name": "stdout",
     "output_type": "stream",
     "text": [
      "modulus\n"
     ]
    },
    {
     "data": {
      "text/plain": [
       "0"
      ]
     },
     "execution_count": 9,
     "metadata": {},
     "output_type": "execute_result"
    }
   ],
   "source": [
    "print(\"modulus\")\n",
    "60%4"
   ]
  },
  {
   "cell_type": "code",
   "execution_count": 11,
   "metadata": {},
   "outputs": [
    {
     "data": {
      "text/plain": [
       "False"
      ]
     },
     "execution_count": 11,
     "metadata": {},
     "output_type": "execute_result"
    }
   ],
   "source": [
    "a=60\n",
    "b=40\n",
    "a==b"
   ]
  },
  {
   "cell_type": "code",
   "execution_count": 15,
   "metadata": {},
   "outputs": [
    {
     "data": {
      "text/plain": [
       "True"
      ]
     },
     "execution_count": 15,
     "metadata": {},
     "output_type": "execute_result"
    }
   ],
   "source": [
    "c=60\n",
    "a==c\n"
   ]
  },
  {
   "cell_type": "code",
   "execution_count": 16,
   "metadata": {},
   "outputs": [
    {
     "data": {
      "text/plain": [
       "True"
      ]
     },
     "execution_count": 16,
     "metadata": {},
     "output_type": "execute_result"
    }
   ],
   "source": [
    "c <= a"
   ]
  },
  {
   "cell_type": "code",
   "execution_count": 17,
   "metadata": {},
   "outputs": [],
   "source": [
    "a=!b"
   ]
  },
  {
   "cell_type": "code",
   "execution_count": 18,
   "metadata": {},
   "outputs": [
    {
     "data": {
      "text/plain": [
       "True"
      ]
     },
     "execution_count": 18,
     "metadata": {},
     "output_type": "execute_result"
    }
   ],
   "source": [
    "strl = \"anaconda.com\"\n",
    "\"f\" not in strl"
   ]
  },
  {
   "cell_type": "code",
   "execution_count": null,
   "metadata": {},
   "outputs": [],
   "source": []
  }
 ],
 "metadata": {
  "kernelspec": {
   "display_name": "Python 3",
   "language": "python",
   "name": "python3"
  },
  "language_info": {
   "codemirror_mode": {
    "name": "ipython",
    "version": 3
   },
   "file_extension": ".py",
   "mimetype": "text/x-python",
   "name": "python",
   "nbconvert_exporter": "python",
   "pygments_lexer": "ipython3",
   "version": "3.7.6"
  }
 },
 "nbformat": 4,
 "nbformat_minor": 4
}
